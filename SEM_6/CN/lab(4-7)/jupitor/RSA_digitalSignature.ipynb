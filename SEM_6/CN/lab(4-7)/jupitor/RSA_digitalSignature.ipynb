{
 "cells": [
  {
   "cell_type": "code",
   "execution_count": 1,
   "id": "70241b86",
   "metadata": {},
   "outputs": [],
   "source": [
    "import math\n",
    "import random"
   ]
  },
  {
   "cell_type": "code",
   "execution_count": 2,
   "id": "449824e2",
   "metadata": {},
   "outputs": [],
   "source": [
    "def keyGeneration():\n",
    "    p=int(input('Enter 1st large prime p:'))\n",
    "    q=int(input('Enter 2nd large prime q:'))\n",
    "    n=p*q\n",
    "    phi_n=(p-1)*(q-1)\n",
    "    e=int(input('Randomly choose e between 1 and phi_n:'))\n",
    "    while(math.gcd(e,phi_n)!=1 and (1<e and e<phi_n)):\n",
    "        e=int(input('Randomly choose e between 1 and phi_n:'))\n",
    "\n",
    "    k=random.randint(1,1000)\n",
    "    while((k*phi_n+1)%e != 0):\n",
    "        k=random.randint(1,1000)\n",
    "    d=int((k*phi_n+1)/e)\n",
    "\n",
    "    return e,n,d"
   ]
  },
  {
   "cell_type": "code",
   "execution_count": 3,
   "id": "0184a2b0",
   "metadata": {},
   "outputs": [],
   "source": [
    "def generate_signature(M,d,n):\n",
    "    S=pow(M,d)%n\n",
    "    return S"
   ]
  },
  {
   "cell_type": "code",
   "execution_count": 4,
   "id": "d0f88ab8",
   "metadata": {},
   "outputs": [],
   "source": [
    "def verify_signature(S,M,e,n):\n",
    "    M1=pow(S,e)%n\n",
    "    print('The receiver is now verifying..... It generated the message M1=',M1)\n",
    "    if M == M1:\n",
    "        return True\n",
    "    return False"
   ]
  },
  {
   "cell_type": "code",
   "execution_count": 5,
   "id": "c4d551e7",
   "metadata": {},
   "outputs": [
    {
     "name": "stdout",
     "output_type": "stream",
     "text": [
      "Enter 1st large prime p:63\n",
      "Enter 2nd large prime q:77\n",
      "Randomly choose e between 1 and phi_n:53\n",
      "e= 53 n= 4851 d= 59389\n",
      "Enter message M to sign:23\n",
      "Signature generated\n",
      "Sending signature S= 452  and message M= 23\n",
      "The receiver is now verifying..... It generated the message M1= 452\n",
      "Message Rejected...\n"
     ]
    }
   ],
   "source": [
    "e=n=d=0\n",
    "e,n,d = keyGeneration()\n",
    "print('e=',e,'n=',n,'d=',d)\n",
    "\n",
    "M=int(input('Enter message M to sign:'))\n",
    "S=generate_signature(M,e,n)\n",
    "print('Signature generated')\n",
    "print('Sending signature S=',S,' and message M=',M)\n",
    "res=verify_signature(S,M,d,n)\n",
    "if res==True:\n",
    "    print('Message Accepted...')\n",
    "else:\n",
    "    print('Message Rejected...')"
   ]
  }
 ],
 "metadata": {
  "kernelspec": {
   "display_name": "Python 3 (ipykernel)",
   "language": "python",
   "name": "python3"
  },
  "language_info": {
   "codemirror_mode": {
    "name": "ipython",
    "version": 3
   },
   "file_extension": ".py",
   "mimetype": "text/x-python",
   "name": "python",
   "nbconvert_exporter": "python",
   "pygments_lexer": "ipython3",
   "version": "3.9.12"
  }
 },
 "nbformat": 4,
 "nbformat_minor": 5
}
