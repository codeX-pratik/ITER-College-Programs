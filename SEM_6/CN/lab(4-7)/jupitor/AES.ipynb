{
 "cells": [
  {
   "cell_type": "code",
   "execution_count": 1,
   "id": "06b6321c",
   "metadata": {},
   "outputs": [
    {
     "name": "stdout",
     "output_type": "stream",
     "text": [
      "Requirement already satisfied: pycryptodome in c:\\users\\super\\anaconda3\\lib\\site-packages (3.22.0)\n",
      "Note: you may need to restart the kernel to use updated packages.\n"
     ]
    }
   ],
   "source": [
    "pip install pycryptodome"
   ]
  },
  {
   "cell_type": "code",
   "execution_count": 2,
   "id": "f01e8e4f",
   "metadata": {},
   "outputs": [],
   "source": [
    "from Crypto.Cipher import AES\n",
    "from Crypto.Random import get_random_bytes\n",
    "from Crypto.Util.Padding import pad, unpad\n",
    "import base64"
   ]
  },
  {
   "cell_type": "code",
   "execution_count": 3,
   "id": "cb1a9adc",
   "metadata": {},
   "outputs": [],
   "source": [
    "class AESEncryptor:\n",
    "    def __init__(self, key=None):\n",
    "        if key:\n",
    "            if len(key) not in [16, 24, 32]:\n",
    "                raise ValueError(\"Key must be 16, 24, or 32 bytes long\")\n",
    "            self.key = key\n",
    "        else:\n",
    "            self.key = get_random_bytes(32)\n",
    "    \n",
    "    def encrypt(self, plaintext):\n",
    "        iv = get_random_bytes(AES.block_size)\n",
    "        cipher = AES.new(self.key, AES.MODE_CBC, iv)\n",
    "        padded_plaintext = pad(plaintext.encode('utf-8'), AES.block_size)\n",
    "        ciphertext = cipher.encrypt(padded_plaintext)\n",
    "        return base64.b64encode(iv + ciphertext).decode('utf-8')\n",
    "    \n",
    "    def decrypt(self, ciphertext):\n",
    "        raw_data = base64.b64decode(ciphertext)\n",
    "        iv = raw_data[:AES.block_size]\n",
    "        ciphertext = raw_data[AES.block_size:]\n",
    "        cipher = AES.new(self.key, AES.MODE_CBC, iv)\n",
    "        decrypted_data = unpad(cipher.decrypt(ciphertext), AES.block_size)\n",
    "        return decrypted_data.decode('utf-8')"
   ]
  },
  {
   "cell_type": "code",
   "execution_count": 4,
   "id": "4de493d3",
   "metadata": {},
   "outputs": [
    {
     "name": "stdout",
     "output_type": "stream",
     "text": [
      "Enter a message: AES ENCRYPT AND DECRYPT\n",
      "Original message: AES ENCRYPT AND DECRYPT\n",
      "Encrypted message: vwarDNEGzcBOGxHOv2s6KvrGdAg6iomLeEndjMOQt7FW+obVhD2uykMaWc5A2Mhq\n",
      "Decrypted message: AES ENCRYPT AND DECRYPT\n",
      "Encryption/Decryption successful!\n"
     ]
    }
   ],
   "source": [
    "if __name__ == \"__main__\":\n",
    "    encryptor = AESEncryptor()\n",
    "    message = input(\"Enter a message: \")\n",
    "    print(f\"Original message: {message}\")\n",
    "    encrypted = encryptor.encrypt(message)\n",
    "    print(f\"Encrypted message: {encrypted}\")\n",
    "    decrypted = encryptor.decrypt(encrypted)\n",
    "    print(f\"Decrypted message: {decrypted}\")\n",
    "    if message == decrypted:\n",
    "        print(\"Encryption/Decryption successful!\")\n",
    "    else:\n",
    "        print(\"Something went wrong!\")"
   ]
  },
  {
   "cell_type": "code",
   "execution_count": null,
   "id": "39aab0b3",
   "metadata": {},
   "outputs": [],
   "source": []
  }
 ],
 "metadata": {
  "kernelspec": {
   "display_name": "Python 3 (ipykernel)",
   "language": "python",
   "name": "python3"
  },
  "language_info": {
   "codemirror_mode": {
    "name": "ipython",
    "version": 3
   },
   "file_extension": ".py",
   "mimetype": "text/x-python",
   "name": "python",
   "nbconvert_exporter": "python",
   "pygments_lexer": "ipython3",
   "version": "3.9.12"
  }
 },
 "nbformat": 4,
 "nbformat_minor": 5
}
