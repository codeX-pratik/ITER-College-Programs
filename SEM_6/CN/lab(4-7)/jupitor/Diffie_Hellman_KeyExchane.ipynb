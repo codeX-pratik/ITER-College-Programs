{
 "cells": [
  {
   "cell_type": "code",
   "execution_count": 1,
   "id": "b8ac70f6",
   "metadata": {},
   "outputs": [],
   "source": [
    "import random\n",
    "import math"
   ]
  },
  {
   "cell_type": "code",
   "execution_count": 2,
   "id": "e996f619",
   "metadata": {},
   "outputs": [],
   "source": [
    "def isPrime(n):\n",
    "    for i in range(2, int(math.sqrt(n)) + 1):\n",
    "        if n % i == 0:\n",
    "            return False\n",
    "    return True"
   ]
  },
  {
   "cell_type": "code",
   "execution_count": 3,
   "id": "f5b786d4",
   "metadata": {},
   "outputs": [],
   "source": [
    "def getPrimeNumber(r1, r2):\n",
    "    while True:\n",
    "        n = random.randint(r1, r2)\n",
    "        if isPrime(n):\n",
    "            return n"
   ]
  },
  {
   "cell_type": "code",
   "execution_count": 4,
   "id": "0e8cca71",
   "metadata": {},
   "outputs": [
    {
     "name": "stdout",
     "output_type": "stream",
     "text": [
      "Chosen prime number p= 23\n",
      "Enter the generator of order p-1:42\n",
      "Alice choosen a large random number x= 6  and computed R1= 2\n",
      "Bob choosen a large random number y= 18  and computed R2= 8\n"
     ]
    }
   ],
   "source": [
    "p=getPrimeNumber(2,100)\n",
    "print('Chosen prime number p=',p)\n",
    "g=int(input('Enter the generator of order p-1:'))\n",
    "\n",
    "x = random.randint(2, p - 2)\n",
    "R1 = pow(g,x) % p\n",
    "print('Alice choosen a large random number x=',x,' and computed R1=',R1)\n",
    "\n",
    "y = random.randint(2, p - 2)\n",
    "R2 = pow(g,y) % p\n",
    "print('Bob choosen a large random number y=',y,' and computed R2=',R2)"
   ]
  },
  {
   "cell_type": "code",
   "execution_count": 5,
   "id": "9df64026",
   "metadata": {},
   "outputs": [
    {
     "name": "stdout",
     "output_type": "stream",
     "text": [
      "Alice's Computed Shared Key is: 13\n",
      "Bob's   Computed Shared Key is: 13\n",
      "Key Exchange Successful...\n"
     ]
    }
   ],
   "source": [
    "K_Alice = pow(R2,x) % p\n",
    "K_Bob   = pow(R1,y) % p\n",
    "print('Alice\\'s Computed Shared Key is:',K_Alice)\n",
    "print('Bob\\'s   Computed Shared Key is:',K_Bob)\n",
    "\n",
    "if K_Alice == K_Bob:\n",
    "  print('Key Exchange Successful...')\n",
    "else:\n",
    "  print('Key Exchange not Successful...')"
   ]
  }
 ],
 "metadata": {
  "kernelspec": {
   "display_name": "Python 3 (ipykernel)",
   "language": "python",
   "name": "python3"
  },
  "language_info": {
   "codemirror_mode": {
    "name": "ipython",
    "version": 3
   },
   "file_extension": ".py",
   "mimetype": "text/x-python",
   "name": "python",
   "nbconvert_exporter": "python",
   "pygments_lexer": "ipython3",
   "version": "3.9.12"
  }
 },
 "nbformat": 4,
 "nbformat_minor": 5
}
