{
 "cells": [
  {
   "cell_type": "code",
   "execution_count": 1,
   "id": "1a34a268",
   "metadata": {},
   "outputs": [
    {
     "name": "stdout",
     "output_type": "stream",
     "text": [
      "Requirement already satisfied: pycryptodome in c:\\users\\super\\anaconda3\\lib\\site-packages (3.22.0)\n",
      "Note: you may need to restart the kernel to use updated packages.\n"
     ]
    }
   ],
   "source": [
    "pip install pycryptodome"
   ]
  },
  {
   "cell_type": "code",
   "execution_count": 2,
   "id": "ca2c7f46",
   "metadata": {},
   "outputs": [],
   "source": [
    "from Crypto.Cipher import DES\n",
    "import binascii"
   ]
  },
  {
   "cell_type": "code",
   "execution_count": 3,
   "id": "61bd83bb",
   "metadata": {},
   "outputs": [],
   "source": [
    "def pad(text):\n",
    "    while len(text) % 8 != 0:\n",
    "        text += \" \"\n",
    "    return text.encode()"
   ]
  },
  {
   "cell_type": "code",
   "execution_count": 4,
   "id": "48fe6ee7",
   "metadata": {},
   "outputs": [],
   "source": [
    "def encryption(des, plaintext):\n",
    "    padded_text = pad(plaintext)\n",
    "    ciphertext = des.encrypt(padded_text)\n",
    "    return binascii.hexlify(ciphertext).decode()"
   ]
  },
  {
   "cell_type": "code",
   "execution_count": 5,
   "id": "320dff24",
   "metadata": {},
   "outputs": [],
   "source": [
    "def decryption(des, ciphertext):\n",
    "    binary_data = binascii.unhexlify(ciphertext)\n",
    "    plaintext = des.decrypt(binary_data).decode().strip()\n",
    "    return plaintext"
   ]
  },
  {
   "cell_type": "code",
   "execution_count": 6,
   "id": "b62f0211",
   "metadata": {},
   "outputs": [
    {
     "name": "stdout",
     "output_type": "stream",
     "text": [
      "Enter key: 10101010\n",
      "Enter plaintext: 11110000\n",
      "Plaintext is: 11110000\n"
     ]
    }
   ],
   "source": [
    "key = input(\"Enter key: \")\n",
    "plaintext = input(\"Enter plaintext: \")\n",
    "print(\"Plaintext is:\", plaintext)"
   ]
  },
  {
   "cell_type": "code",
   "execution_count": 7,
   "id": "80f84366",
   "metadata": {},
   "outputs": [
    {
     "name": "stdout",
     "output_type": "stream",
     "text": [
      "Ciphertext after encryption: 54e3eccc65a871a5\n",
      "Decrypted text: 11110000\n"
     ]
    }
   ],
   "source": [
    "if len(key) != 8:\n",
    "    print(\"Key must be 8 bytes long\")\n",
    "else:\n",
    "    key = key.encode()\n",
    "    des_cipher = DES.new(key, DES.MODE_ECB)\n",
    "    \n",
    "    ciphertext = encryption(des_cipher, plaintext)\n",
    "    print(\"Ciphertext after encryption:\", ciphertext)\n",
    "    \n",
    "    decrypted_text = decryption(des_cipher, ciphertext)\n",
    "    print(\"Decrypted text:\", decrypted_text)"
   ]
  }
 ],
 "metadata": {
  "kernelspec": {
   "display_name": "Python 3 (ipykernel)",
   "language": "python",
   "name": "python3"
  },
  "language_info": {
   "codemirror_mode": {
    "name": "ipython",
    "version": 3
   },
   "file_extension": ".py",
   "mimetype": "text/x-python",
   "name": "python",
   "nbconvert_exporter": "python",
   "pygments_lexer": "ipython3",
   "version": "3.9.12"
  }
 },
 "nbformat": 4,
 "nbformat_minor": 5
}
