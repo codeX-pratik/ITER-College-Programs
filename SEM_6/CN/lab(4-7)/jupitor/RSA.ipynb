{
 "cells": [
  {
   "cell_type": "code",
   "execution_count": 1,
   "id": "159c5878",
   "metadata": {},
   "outputs": [],
   "source": [
    "import math\n",
    "import random"
   ]
  },
  {
   "cell_type": "code",
   "execution_count": 2,
   "id": "f540f9d8",
   "metadata": {},
   "outputs": [],
   "source": [
    "def keyGeneration():\n",
    "  p=int(input('Enter 1st large prime p:'))\n",
    "  q=int(input('Enter 2nd large prime q:'))\n",
    "  n=p*q\n",
    "  phi_n=(p-1)*(q-1)\n",
    "  e=int(input('Randomly choose e between 1 and phi_n:'))\n",
    "  while(math.gcd(e,phi_n)!=1 and (1<e and e<phi_n)):\n",
    "    e=int(input('Randomly choose e between 1 and phi_n:'))\n",
    "\n",
    "  k=random.randint(1,1000)\n",
    "  while((k*phi_n+1)%e != 0):\n",
    "    k=random.randint(1,1000)\n",
    "  d=int((k*phi_n+1)/e)\n",
    "\n",
    "  return e,n,d"
   ]
  },
  {
   "cell_type": "code",
   "execution_count": 3,
   "id": "dde91715",
   "metadata": {},
   "outputs": [],
   "source": [
    "def encrypt(P,e,n):\n",
    "  C=pow(P,e)%n\n",
    "  return C"
   ]
  },
  {
   "cell_type": "code",
   "execution_count": 4,
   "id": "2ddc92c2",
   "metadata": {},
   "outputs": [],
   "source": [
    "def decrypt(C,d,n):\n",
    "  P=pow(C,d)%n\n",
    "  return P"
   ]
  },
  {
   "cell_type": "code",
   "execution_count": 5,
   "id": "78a3ce30",
   "metadata": {},
   "outputs": [
    {
     "name": "stdout",
     "output_type": "stream",
     "text": [
      "Enter 1st large prime p:7\n",
      "Enter 2nd large prime q:11\n",
      "Randomly choose e between 1 and phi_n:37\n",
      "e= 37 n= 77 d= 1033\n",
      "Enter plaintext (integer):5\n",
      "Cipertext= 47\n",
      "Decrypted plaintext= 5\n",
      "Enter plaintext:hello world\n",
      "Plaintext is: helloworld\n",
      "Cipertext= 28601111422242521131\n",
      "Decrypted plaintext= helloworld\n"
     ]
    }
   ],
   "source": [
    "e=n=d=0\n",
    "e,n,d = keyGeneration()\n",
    "print('e=',e,'n=',n,'d=',d)\n",
    "\n",
    "P=int(input('Enter plaintext (integer):'))\n",
    "C=encrypt(P,e,n)\n",
    "print('Cipertext=',C)\n",
    "P1=decrypt(C,d,n)\n",
    "print('Decrypted plaintext=',P1)\n",
    "\n",
    "PP=input('Enter plaintext:')\n",
    "PP=PP.lower().replace(\" \",\"\")\n",
    "print('Plaintext is:',PP)\n",
    "CC=\"\"\n",
    "CC_list=[]\n",
    "for i in range(len(PP)):\n",
    "  ch=ord(PP[i])-ord('a')\n",
    "  tmp=encrypt(ch,e,n)\n",
    "  CC_list.append(tmp)\n",
    "for i in CC_list:\n",
    "  CC+=str(i)\n",
    "print('Cipertext=',CC)\n",
    "\n",
    "PP1=\"\"\n",
    "for i in CC_list:\n",
    "  ch=decrypt(i,d,n)\n",
    "  ch=chr(97+ch)\n",
    "  PP1+=str(ch)\n",
    "\n",
    "print('Decrypted plaintext=',PP1)"
   ]
  },
  {
   "cell_type": "code",
   "execution_count": null,
   "id": "938f48cf",
   "metadata": {},
   "outputs": [],
   "source": []
  }
 ],
 "metadata": {
  "kernelspec": {
   "display_name": "Python 3 (ipykernel)",
   "language": "python",
   "name": "python3"
  },
  "language_info": {
   "codemirror_mode": {
    "name": "ipython",
    "version": 3
   },
   "file_extension": ".py",
   "mimetype": "text/x-python",
   "name": "python",
   "nbconvert_exporter": "python",
   "pygments_lexer": "ipython3",
   "version": "3.9.12"
  }
 },
 "nbformat": 4,
 "nbformat_minor": 5
}
