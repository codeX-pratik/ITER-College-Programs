{
 "cells": [
  {
   "cell_type": "code",
   "execution_count": 1,
   "id": "a472a8ae",
   "metadata": {},
   "outputs": [],
   "source": [
    "def vigenere_encrypt(plaintext, key):\n",
    "    encrypted_text = []\n",
    "    key_length = len(key)\n",
    "    for i, char in enumerate(plaintext):\n",
    "        if char.isalpha():\n",
    "            shift = ord(key[i % key_length].upper()) - ord('A')\n",
    "            if char.isupper():\n",
    "                encrypted_char = chr((ord(char) - ord('A') + shift) % 26 + ord('A'))\n",
    "            else:\n",
    "                encrypted_char = chr((ord(char) - ord('a') + shift) % 26 + ord('a'))\n",
    "            encrypted_text.append(encrypted_char)\n",
    "        else:\n",
    "            encrypted_text.append(char)\n",
    "    return ''.join(encrypted_text)"
   ]
  },
  {
   "cell_type": "code",
   "execution_count": 2,
   "id": "2d8fc53d",
   "metadata": {},
   "outputs": [],
   "source": [
    "def vigenere_decrypt(ciphertext, key):\n",
    "    decrypted_text = []\n",
    "    key_length = len(key)\n",
    "    for i, char in enumerate(ciphertext):\n",
    "        if char.isalpha():\n",
    "            shift = ord(key[i % key_length].upper()) - ord('A')\n",
    "            if char.isupper():\n",
    "                decrypted_char = chr((ord(char) - ord('A') - shift) % 26 + ord('A'))\n",
    "            else:\n",
    "                decrypted_char = chr((ord(char) - ord('a') - shift) % 26 + ord('a'))\n",
    "            decrypted_text.append(decrypted_char)\n",
    "        else:\n",
    "            decrypted_text.append(char)\n",
    "    return ''.join(decrypted_text)"
   ]
  },
  {
   "cell_type": "code",
   "execution_count": 3,
   "id": "64d33929",
   "metadata": {},
   "outputs": [
    {
     "name": "stdout",
     "output_type": "stream",
     "text": [
      "Enter 'E' for encryption or 'D' for decryption: e\n",
      "Enter the plaintext: ALL IS WELL\n",
      "Enter the key: CAKE\n",
      "Encrypted text: CLV KS AGLV\n"
     ]
    }
   ],
   "source": [
    "choice = input(\"Enter 'E' for encryption or 'D' for decryption: \").upper()\n",
    "if choice == 'E':\n",
    "    plaintext = input(\"Enter the plaintext: \")\n",
    "    key = input(\"Enter the key: \")\n",
    "    ciphertext = vigenere_encrypt(plaintext, key)\n",
    "    print(\"Encrypted text:\", ciphertext)\n",
    "elif choice == 'D':\n",
    "    ciphertext = input(\"Enter the ciphertext: \")\n",
    "    key = input(\"Enter the key: \")\n",
    "    plaintext = vigenere_decrypt(ciphertext, key)\n",
    "    print(\"Decrypted text:\", plaintext)\n",
    "else:\n",
    "    print(\"Invalid choice\")"
   ]
  }
 ],
 "metadata": {
  "kernelspec": {
   "display_name": "Python 3 (ipykernel)",
   "language": "python",
   "name": "python3"
  },
  "language_info": {
   "codemirror_mode": {
    "name": "ipython",
    "version": 3
   },
   "file_extension": ".py",
   "mimetype": "text/x-python",
   "name": "python",
   "nbconvert_exporter": "python",
   "pygments_lexer": "ipython3",
   "version": "3.9.12"
  }
 },
 "nbformat": 4,
 "nbformat_minor": 5
}
