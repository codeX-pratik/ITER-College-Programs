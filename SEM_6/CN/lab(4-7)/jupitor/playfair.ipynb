{
 "cells": [
  {
   "cell_type": "code",
   "execution_count": 1,
   "id": "657a0a07",
   "metadata": {},
   "outputs": [],
   "source": [
    "def prepare_key(key):\n",
    "    key = key.replace(\" \", \"\").upper()\n",
    "    key_matrix = []\n",
    "    for char in key:\n",
    "        if char not in key_matrix and char != 'J':\n",
    "            key_matrix.append(char)\n",
    "    for char in \"ABCDEFGHIKLMNOPQRSTUVWXYZ\":\n",
    "        if char not in key_matrix:\n",
    "            key_matrix.append(char)\n",
    "    return [key_matrix[i:i+5] for i in range(0, 25, 5)]"
   ]
  },
  {
   "cell_type": "code",
   "execution_count": 2,
   "id": "a7dcdae0",
   "metadata": {},
   "outputs": [],
   "source": [
    "def prepare_text(text):\n",
    "    text = text.replace(\" \", \"\").upper()\n",
    "    text = text.replace(\"J\", \"I\")\n",
    "    prepared = []\n",
    "    i = 0\n",
    "    while i < len(text):\n",
    "        if i == len(text) - 1:\n",
    "            prepared.append(text[i] + 'X')\n",
    "            i += 1\n",
    "        elif text[i] == text[i+1]:\n",
    "            prepared.append(text[i] + 'X')\n",
    "            i += 1\n",
    "        else:\n",
    "            prepared.append(text[i] + text[i+1])\n",
    "            i += 2\n",
    "    return prepared"
   ]
  },
  {
   "cell_type": "code",
   "execution_count": 3,
   "id": "d0df9680",
   "metadata": {},
   "outputs": [],
   "source": [
    "def find_position(matrix, char):\n",
    "    for row in range(5):\n",
    "        for col in range(5):\n",
    "            if matrix[row][col] == char:\n",
    "                return row, col\n",
    "    return -1, -1"
   ]
  },
  {
   "cell_type": "code",
   "execution_count": 4,
   "id": "a5772649",
   "metadata": {},
   "outputs": [],
   "source": [
    "def encrypt_pair(matrix, pair):\n",
    "    row1, col1 = find_position(matrix, pair[0])\n",
    "    row2, col2 = find_position(matrix, pair[1])\n",
    "    if row1 == row2:\n",
    "        return matrix[row1][(col1 + 1) % 5] + matrix[row2][(col2 + 1) % 5]\n",
    "    elif col1 == col2:\n",
    "        return matrix[(row1 + 1) % 5][col1] + matrix[(row2 + 1) % 5][col2]\n",
    "    else:\n",
    "        return matrix[row1][col2] + matrix[row2][col1]"
   ]
  },
  {
   "cell_type": "code",
   "execution_count": 5,
   "id": "3f258acf",
   "metadata": {},
   "outputs": [],
   "source": [
    "def decrypt_pair(matrix, pair):\n",
    "    row1, col1 = find_position(matrix, pair[0])\n",
    "    row2, col2 = find_position(matrix, pair[1])\n",
    "    if row1 == row2:\n",
    "        return matrix[row1][(col1 - 1) % 5] + matrix[row2][(col2 - 1) % 5]\n",
    "    elif col1 == col2:\n",
    "        return matrix[(row1 - 1) % 5][col1] + matrix[(row2 - 1) % 5][col2]\n",
    "    else:\n",
    "        return matrix[row1][col2] + matrix[row2][col1]"
   ]
  },
  {
   "cell_type": "code",
   "execution_count": 6,
   "id": "3309433a",
   "metadata": {},
   "outputs": [],
   "source": [
    "def encrypt(plaintext, key):\n",
    "    matrix = prepare_key(key)\n",
    "    pairs = prepare_text(plaintext)\n",
    "    ciphertext = \"\"\n",
    "    for pair in pairs:\n",
    "        ciphertext += encrypt_pair(matrix, pair)\n",
    "    return ciphertext"
   ]
  },
  {
   "cell_type": "code",
   "execution_count": 7,
   "id": "eac8248f",
   "metadata": {},
   "outputs": [],
   "source": [
    "def decrypt(ciphertext, key):\n",
    "    matrix = prepare_key(key)\n",
    "    pairs = [ciphertext[i:i+2] for i in range(0, len(ciphertext), 2)]\n",
    "    plaintext = \"\"\n",
    "    for pair in pairs:\n",
    "        plaintext += decrypt_pair(matrix, pair)\n",
    "    return plaintext"
   ]
  },
  {
   "cell_type": "code",
   "execution_count": 8,
   "id": "81a72d83",
   "metadata": {},
   "outputs": [
    {
     "name": "stdout",
     "output_type": "stream",
     "text": [
      "Enter 'E' for encryption or 'D' for decryption: e\n",
      "Enter the plaintext: INSTRUMENT\n",
      "Enter the key: MONARCHY\n",
      "Encrypted text: GATLMZCLRQ\n"
     ]
    }
   ],
   "source": [
    "choice = input(\"Enter 'E' for encryption or 'D' for decryption: \").upper()\n",
    "if choice == 'E':\n",
    "    plaintext = input(\"Enter the plaintext: \")\n",
    "    key = input(\"Enter the key: \")\n",
    "    ciphertext = encrypt(plaintext, key)\n",
    "    print(\"Encrypted text:\", ciphertext)\n",
    "elif choice == 'D':\n",
    "    ciphertext = input(\"Enter the ciphertext: \")\n",
    "    key = input(\"Enter the key: \")\n",
    "    plaintext = decrypt(ciphertext, key)\n",
    "    print(\"Decrypted text:\", plaintext)\n",
    "else:\n",
    "    print(\"Invalid choice\")"
   ]
  }
 ],
 "metadata": {
  "kernelspec": {
   "display_name": "Python 3 (ipykernel)",
   "language": "python",
   "name": "python3"
  },
  "language_info": {
   "codemirror_mode": {
    "name": "ipython",
    "version": 3
   },
   "file_extension": ".py",
   "mimetype": "text/x-python",
   "name": "python",
   "nbconvert_exporter": "python",
   "pygments_lexer": "ipython3",
   "version": "3.9.12"
  }
 },
 "nbformat": 4,
 "nbformat_minor": 5
}
